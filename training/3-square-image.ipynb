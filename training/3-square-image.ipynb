{
 "cells": [
  {
   "cell_type": "code",
   "execution_count": 22,
   "metadata": {},
   "outputs": [],
   "source": [
    "import os\n",
    "import shutil\n",
    "from PIL import Image\n",
    "from pillow_heif import register_heif_opener\n",
    "import splitfolders\n",
    "register_heif_opener()"
   ]
  },
  {
   "cell_type": "code",
   "execution_count": 25,
   "metadata": {},
   "outputs": [],
   "source": [
    "# Reset\n",
    "if os.path.isdir(\"./tambahan_dataset/squared/\"):\n",
    "  shutil.rmtree(\"./tambahan_dataset/squared/\")\n",
    "  shutil.rmtree(\"./tambahan_dataset/train/\")\n",
    "  shutil.rmtree(\"./tambahan_dataset/test/\")\n",
    "  shutil.rmtree(\"./tambahan_dataset/val/\")\n",
    "os.makedirs(\"./tambahan_dataset/squared/\")\n",
    "os.makedirs(\"./tambahan_dataset/train/\")\n",
    "os.makedirs(\"./tambahan_dataset/test/\")\n",
    "os.makedirs(\"./tambahan_dataset/val/\")\n",
    "\n",
    "for plant_name in os.listdir('./tambahan_dataset/raw/'):\n",
    "  for image_name in os.listdir(f'./tambahan_dataset/raw/{plant_name}'):\n",
    "    current_image = f'./tambahan_dataset/raw/{plant_name}/{image_name}'\n",
    "    dest_folder = f'./tambahan_dataset/squared/{plant_name}'\n",
    "    dest_image = f'./tambahan_dataset/squared/{plant_name}/{image_name}'\n",
    "\n",
    "    img = Image.open(current_image)\n",
    "    new_width = img.width\n",
    "    new_height = img.height\n",
    "\n",
    "    if(img.height > img.width):\n",
    "      new_height = img.width\n",
    "    elif(img.width > img.height):\n",
    "      new_width = img.height\n",
    "\n",
    "    left = (img.width - new_width)/2\n",
    "    top = (img.height - new_height)/2\n",
    "    right = (img.width + new_width)/2\n",
    "    bottom = (img.height + new_height)/2\n",
    "\n",
    "    img2 = img.crop((left, top, right, bottom))\n",
    "    img2 = img2.resize((224, 224))\n",
    "\n",
    "    if not os.path.isdir(dest_folder):\n",
    "      os.makedirs(dest_folder)\n",
    "\n",
    "    img2.save(dest_image[:-5]+\".jpg\", format=\"JPEG\")\n",
    "\n",
    "\n",
    "SRC_TO_SPLIT = f\"./tambahan_dataset/squared/\"\n",
    "DEST_SPLIT = f\"./tambahan_dataset/\"\n",
    "splitfolders.ratio(SRC_TO_SPLIT, output=DEST_SPLIT, seed=42, ratio=(.7, .15, .15))"
   ]
  },
  {
   "cell_type": "code",
   "execution_count": 21,
   "metadata": {},
   "outputs": [],
   "source": []
  },
  {
   "cell_type": "code",
   "execution_count": null,
   "metadata": {},
   "outputs": [],
   "source": []
  }
 ],
 "metadata": {
  "kernelspec": {
   "display_name": "ta-training",
   "language": "python",
   "name": "python3"
  },
  "language_info": {
   "codemirror_mode": {
    "name": "ipython",
    "version": 3
   },
   "file_extension": ".py",
   "mimetype": "text/x-python",
   "name": "python",
   "nbconvert_exporter": "python",
   "pygments_lexer": "ipython3",
   "version": "3.8.0"
  },
  "orig_nbformat": 4,
  "vscode": {
   "interpreter": {
    "hash": "9116e9d7bbcb526f103072764ad1995063abfddf2b1a77e78ef5f402baf478e7"
   }
  }
 },
 "nbformat": 4,
 "nbformat_minor": 2
}
